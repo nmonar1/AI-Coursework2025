{
  "nbformat": 4,
  "nbformat_minor": 0,
  "metadata": {
    "colab": {
      "provenance": []
    },
    "kernelspec": {
      "name": "python3",
      "display_name": "Python 3"
    },
    "language_info": {
      "name": "python"
    }
  },
  "cells": [
    {
      "cell_type": "code",
      "execution_count": null,
      "metadata": {
        "id": "VZ6xFPFZaIgG"
      },
      "outputs": [],
      "source": []
    },
    {
      "cell_type": "markdown",
      "source": [
        "## Question 1:Calculate number of seconds in a given number of days\n"
      ],
      "metadata": {
        "id": "qDauB-XPeqpO"
      }
    },
    {
      "cell_type": "code",
      "source": [
        "# Ask user to enter input\n",
        "days = int(input(\"Enter number of days:\"))\n",
        "\n",
        "# Check if the input is valid\n",
        "if days < 0:\n",
        "    print(\"Invalid input\")\n",
        "\n",
        "else:\n",
        "    # Conversion of the days to seconds\n",
        "    seconds = days * 24 * 60 * 60\n",
        "    print(f\" {seconds} seconds\")#result"
      ],
      "metadata": {
        "colab": {
          "base_uri": "https://localhost:8080/"
        },
        "id": "DaqYhyqVfZzn",
        "outputId": "c98ca44b-4cfa-423c-82cd-d43847b48a7f"
      },
      "execution_count": null,
      "outputs": [
        {
          "output_type": "stream",
          "name": "stdout",
          "text": [
            "Enter number of days:6\n",
            " 518400 seconds\n"
          ]
        }
      ]
    },
    {
      "cell_type": "markdown",
      "source": [
        "## Question 2:Calculation of the volume of a sphere"
      ],
      "metadata": {
        "id": "RpW99miiiele"
      }
    },
    {
      "cell_type": "code",
      "source": [
        "import math  #used to get an accurate value of pi\n",
        "\n",
        "# Ask user to enter radius\n",
        "radius = float(input(\"Enter radius for the sphere:\"))\n",
        "\n",
        "# Check if the radius is valid\n",
        "if radius < 0:\n",
        "    print(\"Invalid input\")\n",
        "else:\n",
        "    volume = (4/3) * math.pi * (radius ** 3)# calculation of volume using formula\n",
        "    print(\"Volume of the sphere is\", volume)# result"
      ],
      "metadata": {
        "colab": {
          "base_uri": "https://localhost:8080/"
        },
        "id": "ZJ2SDhjci7Gk",
        "outputId": "c419948d-13dd-4bd5-a60b-f2fa6a08d96b"
      },
      "execution_count": null,
      "outputs": [
        {
          "output_type": "stream",
          "name": "stdout",
          "text": [
            "Enter radius for the sphere:7\n",
            "Volume of the sphere is 1436.7550402417319\n"
          ]
        }
      ]
    },
    {
      "cell_type": "markdown",
      "source": [
        "## Question 3:Calculation of the perimeter and area of a square"
      ],
      "metadata": {
        "id": "PRATGa6jm9HQ"
      }
    },
    {
      "cell_type": "code",
      "source": [
        "# Function for calculating area\n",
        "def area(side):\n",
        "    return side * side\n",
        "\n",
        "# Function for calculating perimeter\n",
        "def perimeter(side):\n",
        "    return side + side + side + side\n",
        "\n",
        "# Ask user to ender side length\n",
        "side = float(input(\"Enter side length: \"))\n",
        "\n",
        "# Check if input is valid\n",
        "if side < 0:\n",
        "    print(\"Invalid input\")\n",
        "else:\n",
        "    # Call functions and show results\n",
        "    print(\"Area:\", area(side))\n",
        "    print(\"Perimeter:\", perimeter(side))"
      ],
      "metadata": {
        "colab": {
          "base_uri": "https://localhost:8080/"
        },
        "id": "wP99w_IIn7kS",
        "outputId": "c798c6e5-aacf-465d-93f8-c419e24c16a2"
      },
      "execution_count": null,
      "outputs": [
        {
          "output_type": "stream",
          "name": "stdout",
          "text": [
            "Enter side length: 7\n",
            "Area: 49.0\n",
            "Perimeter: 28.0\n"
          ]
        }
      ]
    },
    {
      "cell_type": "markdown",
      "source": [
        "## Question 4: Checking if a character is lowercase or uppercase"
      ],
      "metadata": {
        "id": "0bs0TPiVraVO"
      }
    },
    {
      "cell_type": "code",
      "source": [
        "\n",
        "def check_character(ch):# function\n",
        "    if ch >= 'A' and ch <= 'Z':\n",
        "        return \"uppercase\"\n",
        "    elif ch >= 'a' and ch <= 'z':\n",
        "        return \"lowercase\"\n",
        "    else:\n",
        "        return \"not a letter\"\n",
        "\n",
        "def main():\n",
        "    # Ask the user to enter a character\n",
        "    char = input(\"Enter a character: \")\n",
        "\n",
        "    # Call function and display result\n",
        "    result = check_character(char)\n",
        "    print(\"The character is\", result)\n",
        "\n",
        "\n",
        "main()#calling the main function\n"
      ],
      "metadata": {
        "colab": {
          "base_uri": "https://localhost:8080/"
        },
        "id": "0WiBKAYhtMa5",
        "outputId": "9442b3a4-f5d2-423e-a1a2-bcda7c8a0db9"
      },
      "execution_count": null,
      "outputs": [
        {
          "output_type": "stream",
          "name": "stdout",
          "text": [
            "Enter a character: y\n",
            "The character is lowercase\n"
          ]
        }
      ]
    },
    {
      "cell_type": "markdown",
      "source": [
        "## Question 5:Pseudocode to python program"
      ],
      "metadata": {
        "id": "e2PFL3_ydRWw"
      }
    },
    {
      "cell_type": "code",
      "source": [
        "x = 0\n",
        "y = 20\n",
        "\n",
        "# Repeat until loop\n",
        "while True:\n",
        "    y = y - 4 # subtract 4 from y\n",
        "    x = x + (2 / y) # add (2 / y) to x\n",
        "\n",
        "\n",
        "# check if y is less than 6, if yes then stop the loop\n",
        "    if y < 6:\n",
        "        break\n",
        "\n",
        "print(\"The final value of x:\", x)"
      ],
      "metadata": {
        "colab": {
          "base_uri": "https://localhost:8080/"
        },
        "id": "5uSNiF0Idn8d",
        "outputId": "a18290c8-0264-4cf1-8991-a7b0fd4f3eeb"
      },
      "execution_count": null,
      "outputs": [
        {
          "output_type": "stream",
          "name": "stdout",
          "text": [
            "The final value of x: 1.0416666666666665\n"
          ]
        }
      ]
    },
    {
      "cell_type": "markdown",
      "source": [
        "## Question 6:Calcution of average of values in an array"
      ],
      "metadata": {
        "id": "6z36fXGRgH_Y"
      }
    },
    {
      "cell_type": "code",
      "source": [
        "values = []  # empty array to store values\n",
        "\n",
        "# Loop 5 times to collect values\n",
        "for i in range(5):\n",
        "    val = float(input(f\"Enter value {i+1} of 5: \"))\n",
        "    values.append(val) #adds the values to the array\n",
        "\n",
        "#calculate sum of all values\n",
        "total = 0\n",
        "for num in values:\n",
        "    total = total + num\n",
        "\n",
        "#calculate the average\n",
        "average = total / 5\n",
        "\n",
        "# Display result\n",
        "print(\"The average is:\", average)"
      ],
      "metadata": {
        "colab": {
          "base_uri": "https://localhost:8080/"
        },
        "id": "o-61GvAfg1Ug",
        "outputId": "96334bf1-0933-43fb-ee98-c9c5eaf20b11"
      },
      "execution_count": 11,
      "outputs": [
        {
          "output_type": "stream",
          "name": "stdout",
          "text": [
            "Enter value 1 of 5: 6\n",
            "Enter value 2 of 5: 7\n",
            "Enter value 3 of 5: 5\n",
            "Enter value 4 of 5: 4\n",
            "Enter value 5 of 5: 9\n",
            "The average is: 6.2\n"
          ]
        }
      ]
    },
    {
      "cell_type": "markdown",
      "source": [
        "##"
      ],
      "metadata": {
        "id": "exsvfnZGiXzD"
      }
    }
  ]
}